{
 "cells": [
  {
   "cell_type": "code",
   "execution_count": null,
   "source": [
    "import numpy as np\r\n",
    "import pandas as pd\r\n",
    "\r\n",
    "import plotly.express as px\r\n",
    "import plotly.graph_objects as go\r\n",
    "import plotly.io as pio\r\n",
    "pio.templates\r\n",
    "\r\n",
    "import seaborn as sns\r\n",
    "import matplotlib.pyplot as plt\r\n",
    "%matplotlib inline"
   ],
   "outputs": [],
   "metadata": {}
  },
  {
   "cell_type": "code",
   "execution_count": null,
   "source": [
    "from sklearn.datasets import load_boston\r\n",
    "load_boston = load_boston()\r\n",
    "X = load_boston.data\r\n",
    "y = load_boston.target\r\n",
    "\r\n",
    "data = pd.DataFrame(X, columns=load_boston.feature_names)\r\n",
    "data['SalePrice'] = y\r\n",
    "data.head()"
   ],
   "outputs": [],
   "metadata": {}
  },
  {
   "cell_type": "code",
   "execution_count": null,
   "source": [
    "print(load_boston.DESCR)"
   ],
   "outputs": [],
   "metadata": {}
  },
  {
   "cell_type": "code",
   "execution_count": null,
   "source": [
    "data.shape"
   ],
   "outputs": [],
   "metadata": {}
  },
  {
   "cell_type": "code",
   "execution_count": null,
   "source": [
    "data.info()"
   ],
   "outputs": [],
   "metadata": {}
  },
  {
   "cell_type": "code",
   "execution_count": null,
   "source": [
    "data.describe()"
   ],
   "outputs": [],
   "metadata": {}
  },
  {
   "cell_type": "code",
   "execution_count": null,
   "source": [
    "data.isnull().sum()"
   ],
   "outputs": [],
   "metadata": {}
  },
  {
   "cell_type": "code",
   "execution_count": null,
   "source": [
    "sns.pairplot(data, height=2.5)\r\n",
    "plt.tight_layout()"
   ],
   "outputs": [],
   "metadata": {}
  },
  {
   "cell_type": "code",
   "execution_count": null,
   "source": [
    "sns.distplot(data['SalePrice'])"
   ],
   "outputs": [],
   "metadata": {}
  },
  {
   "cell_type": "code",
   "execution_count": null,
   "source": [
    "print(f\"Skewness: {data['SalePrice'].skew():.4f}\")\r\n",
    "print(f\"Kurtosis: {data['SalePrice'].kurt():.4f}\")"
   ],
   "outputs": [],
   "metadata": {}
  },
  {
   "cell_type": "code",
   "execution_count": null,
   "source": [
    "fig, ax = plt.subplots()\r\n",
    "ax.scatter(x = data['CRIM'], y = data['SalePrice'])\r\n",
    "plt.ylabel('SalePrice', fontsize=13)\r\n",
    "plt.xlabel('CRIM', fontsize=13)\r\n",
    "plt.show()"
   ],
   "outputs": [],
   "metadata": {}
  },
  {
   "cell_type": "code",
   "execution_count": null,
   "source": [
    "fig, ax = plt.subplots()\r\n",
    "ax.scatter(x = data['AGE'], y = data['SalePrice'])\r\n",
    "plt.ylabel('SalePrice', fontsize=13)\r\n",
    "plt.xlabel('AGE', fontsize=13)\r\n",
    "plt.show()"
   ],
   "outputs": [],
   "metadata": {}
  },
  {
   "cell_type": "code",
   "execution_count": null,
   "source": [
    "from scipy import stats\r\n",
    "from scipy.stats import norm, skew # for some statistics\r\n",
    "\r\n",
    "sns.distplot(data['SalePrice'], fit=norm)\r\n",
    "\r\n",
    "(mu, sigma) = norm.fit(data['SalePrice'])\r\n",
    "print(f'mu = {mu:.2f} and sigma = {sigma:.2f}')\r\n",
    "\r\n",
    "plt.legend([f'Normal dist. ($\\mu=$ {mu:.2f} and $\\sigma=$ {sigma:.2f} )'], loc='best')\r\n",
    "plt.ylabel('Frequency')\r\n",
    "plt.title('SalePrice distribution')\r\n",
    "\r\n",
    "fig = plt.figure()\r\n",
    "res = stats.probplot(data['SalePrice'], plot=plt)\r\n",
    "plt.show()"
   ],
   "outputs": [],
   "metadata": {}
  },
  {
   "cell_type": "code",
   "execution_count": null,
   "source": [
    "data['SalePrice'] = np.log1p(data['SalePrice'])\r\n",
    "\r\n",
    "sns.distplot(data['SalePrice'], fit=norm)\r\n",
    "\r\n",
    "(mu, sigma) = norm.fit(data['SalePrice'])\r\n",
    "print(f\"mu= {mu:.2f} and sigma = {sigma:.2f}\")\r\n",
    "\r\n",
    "plt.legend([f\"Normal Dist. ($\\mu=$ {mu:.2f} and $\\sigma=$ {sigma:.2f}\"], loc='best')\r\n",
    "plt.ylabel('Frequency')\r\n",
    "plt.title('SalePrice Distribution')\r\n",
    "\r\n",
    "fig = plt.figure()\r\n",
    "res = stats.probplot(data['SalePrice'], plot=plt)\r\n",
    "plt.show()"
   ],
   "outputs": [],
   "metadata": {}
  },
  {
   "cell_type": "code",
   "execution_count": null,
   "source": [
    "plt.figure(figsize=(10, 10))\r\n",
    "cor = data.corr()\r\n",
    "sns.heatmap(cor, annot=True, cmap=plt.cm.PuBu)\r\n",
    "plt.show()"
   ],
   "outputs": [],
   "metadata": {}
  },
  {
   "cell_type": "code",
   "execution_count": null,
   "source": [
    "cor_target = abs(cor['SalePrice'])\r\n",
    "\r\n",
    "relevant_features = cor_target[cor_target>0.2]\r\n",
    "names = [index for index, value in relevant_features.iteritems()]\r\n",
    "names.remove('SalePrice')\r\n",
    "\r\n",
    "print(names)\r\n",
    "print(len(names))"
   ],
   "outputs": [],
   "metadata": {}
  },
  {
   "cell_type": "code",
   "execution_count": null,
   "source": [
    "from sklearn.model_selection import train_test_split\r\n",
    "\r\n",
    "X = data.drop('SalePrice', axis=1)\r\n",
    "y = data['SalePrice']\r\n",
    "X_train, X_test, y_train, y_test = train_test_split(X, y, test_size=0.2, random_state=42)"
   ],
   "outputs": [],
   "metadata": {}
  },
  {
   "cell_type": "code",
   "execution_count": null,
   "source": [
    "print(X_train.shape)\r\n",
    "print(X_test.shape)\r\n",
    "print(y_train.shape)\r\n",
    "print(y_test.shape)"
   ],
   "outputs": [],
   "metadata": {}
  },
  {
   "cell_type": "code",
   "execution_count": null,
   "source": [
    "from sklearn.linear_model import LinearRegression\r\n",
    "\r\n",
    "lr = LinearRegression()\r\n",
    "lr.fit(X_train, y_train)\r\n"
   ],
   "outputs": [],
   "metadata": {}
  },
  {
   "cell_type": "code",
   "execution_count": null,
   "source": [
    "predictions = lr.predict(X_test)\r\n",
    "\r\n",
    "print(f\"Actual value of the house: {y_test[0]}\")\r\n",
    "print(f\"Model Predicted Value: {predictions[0]}\")"
   ],
   "outputs": [],
   "metadata": {}
  },
  {
   "cell_type": "code",
   "execution_count": null,
   "source": [
    "from sklearn.metrics import mean_squared_error\r\n",
    "\r\n",
    "mse = mean_squared_error(y_test, predictions)\r\n",
    "rmse = np.sqrt(mse)\r\n",
    "print(mse)\r\n",
    "print(rmse)"
   ],
   "outputs": [],
   "metadata": {}
  }
 ],
 "metadata": {
  "orig_nbformat": 4,
  "language_info": {
   "name": "python"
  }
 },
 "nbformat": 4,
 "nbformat_minor": 2
}