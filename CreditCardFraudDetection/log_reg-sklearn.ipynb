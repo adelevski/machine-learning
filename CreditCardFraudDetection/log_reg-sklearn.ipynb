{
  "nbformat": 4,
  "nbformat_minor": 0,
  "metadata": {
    "colab": {
      "name": "FraudDetectionPart1(SKLearn+LogisticRegression).ipynb",
      "provenance": []
    },
    "kernelspec": {
      "name": "python3",
      "display_name": "Python 3"
    },
    "language_info": {
      "name": "python"
    }
  },
  "cells": [
    {
      "cell_type": "markdown",
      "metadata": {
        "id": "yvosXWPrDxT0"
      },
      "source": [
        "# Credit Card Fraud Detection\n",
        "\n",
        "\n",
        "For this problem, I will be exploring the Kaggle dataset found [here](https://www.kaggle.com/mlg-ulb/creditcardfraud) which contains almost 300k entries of Credit Card transactions during two days from the month of September, 2013. \n",
        "\n",
        "PCA has been used on the dataset, and so for the most part there are only unknown numerical features left, i.e. the 28 (V1-V28) principal components.\n",
        "\n",
        "I am going to be doing this in Google Colab, so I will need to prepare my Colab Notebook to be able to download the dataset straight from Kaggle into the environment.\n"
      ]
    },
    {
      "cell_type": "code",
      "metadata": {
        "id": "FnPXdmx3qtMH"
      },
      "source": [
        "# Mount the drive\n",
        "from google.colab import drive\n",
        "from google.colab import files \n",
        "drive.mount('/content/gdrive')\n",
        "\n",
        "# Upload the kaggle.json file holding our API information\n",
        "files.upload() \n",
        "\n",
        "# Install and configure the kaggle CLI\n",
        "!pip install -q kaggle\n",
        "!mkdir -p ~/.kaggle\n",
        "!cp kaggle.json ~/.kaggle/\n",
        "\n",
        "# Download and unzip dataset inside our project folder\n",
        "!kaggle datasets download -d mlg-ulb/creditcardfraud -p /content/gdrive/MyDrive/Kaggle/FraudDetection\n",
        "!unzip /content/gdrive/MyDrive/Kaggle/FraudDetection/creditcardfraud.zip -d /content/gdrive/MyDrive/Kaggle/FraudDetection"
      ],
      "execution_count": 1,
      "outputs": []
    },
    {
      "cell_type": "markdown",
      "metadata": {
        "id": "YauvC3-TFxaR"
      },
      "source": [
        "## Dependencies\n",
        "\n",
        "First I will see how far I can get with a simple Logistic Regression model, so I will need to import some things from Scikit-Learn. I will also import the keras backend to TensorFlow so that I can explore a deep learning approach later on as well."
      ]
    },
    {
      "cell_type": "code",
      "metadata": {
        "id": "Jffex4z6pL3v"
      },
      "source": [
        "# Import dependencies\n",
        "import numpy as np\n",
        "import pandas as pd\n",
        "\n",
        "import seaborn as sns\n",
        "import matplotlib.pyplot as plt\n",
        "\n",
        "from sklearn.preprocessing import StandardScaler\n",
        "from sklearn.linear_model import LogisticRegression\n",
        "\n",
        "from sklearn import metrics\n",
        "from sklearn.model_selection import train_test_split\n",
        "\n",
        "import tensorflow as tf\n",
        "import tensorflow.keras as keras"
      ],
      "execution_count": 2,
      "outputs": []
    },
    {
      "cell_type": "markdown",
      "metadata": {
        "id": "4qbM8cI-Gxyp"
      },
      "source": [
        "### Preprocessing and Visualization\n",
        "\n",
        "Let's explore the data and see what we can learn before we apply any modeling."
      ]
    },
    {
      "cell_type": "code",
      "metadata": {
        "colab": {
          "base_uri": "https://localhost:8080/",
          "height": 444
        },
        "id": "eTxL4eYLugUO",
        "outputId": "793d3de1-76a6-49d5-a4a8-0a31aa7ff0e9"
      },
      "source": [
        "# Read the csv into a pandas DataFrame\n",
        "df = pd.read_csv('/content/gdrive/MyDrive/Kaggle/FraudDetection/creditcard.csv')\n",
        "df"
      ],
      "execution_count": 3,
      "outputs": [
        {
          "output_type": "execute_result",
          "data": {
            "text/html": [
              "<div>\n",
              "<style scoped>\n",
              "    .dataframe tbody tr th:only-of-type {\n",
              "        vertical-align: middle;\n",
              "    }\n",
              "\n",
              "    .dataframe tbody tr th {\n",
              "        vertical-align: top;\n",
              "    }\n",
              "\n",
              "    .dataframe thead th {\n",
              "        text-align: right;\n",
              "    }\n",
              "</style>\n",
              "<table border=\"1\" class=\"dataframe\">\n",
              "  <thead>\n",
              "    <tr style=\"text-align: right;\">\n",
              "      <th></th>\n",
              "      <th>Time</th>\n",
              "      <th>V1</th>\n",
              "      <th>V2</th>\n",
              "      <th>V3</th>\n",
              "      <th>V4</th>\n",
              "      <th>V5</th>\n",
              "      <th>V6</th>\n",
              "      <th>V7</th>\n",
              "      <th>V8</th>\n",
              "      <th>V9</th>\n",
              "      <th>V10</th>\n",
              "      <th>V11</th>\n",
              "      <th>V12</th>\n",
              "      <th>V13</th>\n",
              "      <th>V14</th>\n",
              "      <th>V15</th>\n",
              "      <th>V16</th>\n",
              "      <th>V17</th>\n",
              "      <th>V18</th>\n",
              "      <th>V19</th>\n",
              "      <th>V20</th>\n",
              "      <th>V21</th>\n",
              "      <th>V22</th>\n",
              "      <th>V23</th>\n",
              "      <th>V24</th>\n",
              "      <th>V25</th>\n",
              "      <th>V26</th>\n",
              "      <th>V27</th>\n",
              "      <th>V28</th>\n",
              "      <th>Amount</th>\n",
              "      <th>Class</th>\n",
              "    </tr>\n",
              "  </thead>\n",
              "  <tbody>\n",
              "    <tr>\n",
              "      <th>0</th>\n",
              "      <td>0.0</td>\n",
              "      <td>-1.359807</td>\n",
              "      <td>-0.072781</td>\n",
              "      <td>2.536347</td>\n",
              "      <td>1.378155</td>\n",
              "      <td>-0.338321</td>\n",
              "      <td>0.462388</td>\n",
              "      <td>0.239599</td>\n",
              "      <td>0.098698</td>\n",
              "      <td>0.363787</td>\n",
              "      <td>0.090794</td>\n",
              "      <td>-0.551600</td>\n",
              "      <td>-0.617801</td>\n",
              "      <td>-0.991390</td>\n",
              "      <td>-0.311169</td>\n",
              "      <td>1.468177</td>\n",
              "      <td>-0.470401</td>\n",
              "      <td>0.207971</td>\n",
              "      <td>0.025791</td>\n",
              "      <td>0.403993</td>\n",
              "      <td>0.251412</td>\n",
              "      <td>-0.018307</td>\n",
              "      <td>0.277838</td>\n",
              "      <td>-0.110474</td>\n",
              "      <td>0.066928</td>\n",
              "      <td>0.128539</td>\n",
              "      <td>-0.189115</td>\n",
              "      <td>0.133558</td>\n",
              "      <td>-0.021053</td>\n",
              "      <td>149.62</td>\n",
              "      <td>0</td>\n",
              "    </tr>\n",
              "    <tr>\n",
              "      <th>1</th>\n",
              "      <td>0.0</td>\n",
              "      <td>1.191857</td>\n",
              "      <td>0.266151</td>\n",
              "      <td>0.166480</td>\n",
              "      <td>0.448154</td>\n",
              "      <td>0.060018</td>\n",
              "      <td>-0.082361</td>\n",
              "      <td>-0.078803</td>\n",
              "      <td>0.085102</td>\n",
              "      <td>-0.255425</td>\n",
              "      <td>-0.166974</td>\n",
              "      <td>1.612727</td>\n",
              "      <td>1.065235</td>\n",
              "      <td>0.489095</td>\n",
              "      <td>-0.143772</td>\n",
              "      <td>0.635558</td>\n",
              "      <td>0.463917</td>\n",
              "      <td>-0.114805</td>\n",
              "      <td>-0.183361</td>\n",
              "      <td>-0.145783</td>\n",
              "      <td>-0.069083</td>\n",
              "      <td>-0.225775</td>\n",
              "      <td>-0.638672</td>\n",
              "      <td>0.101288</td>\n",
              "      <td>-0.339846</td>\n",
              "      <td>0.167170</td>\n",
              "      <td>0.125895</td>\n",
              "      <td>-0.008983</td>\n",
              "      <td>0.014724</td>\n",
              "      <td>2.69</td>\n",
              "      <td>0</td>\n",
              "    </tr>\n",
              "    <tr>\n",
              "      <th>2</th>\n",
              "      <td>1.0</td>\n",
              "      <td>-1.358354</td>\n",
              "      <td>-1.340163</td>\n",
              "      <td>1.773209</td>\n",
              "      <td>0.379780</td>\n",
              "      <td>-0.503198</td>\n",
              "      <td>1.800499</td>\n",
              "      <td>0.791461</td>\n",
              "      <td>0.247676</td>\n",
              "      <td>-1.514654</td>\n",
              "      <td>0.207643</td>\n",
              "      <td>0.624501</td>\n",
              "      <td>0.066084</td>\n",
              "      <td>0.717293</td>\n",
              "      <td>-0.165946</td>\n",
              "      <td>2.345865</td>\n",
              "      <td>-2.890083</td>\n",
              "      <td>1.109969</td>\n",
              "      <td>-0.121359</td>\n",
              "      <td>-2.261857</td>\n",
              "      <td>0.524980</td>\n",
              "      <td>0.247998</td>\n",
              "      <td>0.771679</td>\n",
              "      <td>0.909412</td>\n",
              "      <td>-0.689281</td>\n",
              "      <td>-0.327642</td>\n",
              "      <td>-0.139097</td>\n",
              "      <td>-0.055353</td>\n",
              "      <td>-0.059752</td>\n",
              "      <td>378.66</td>\n",
              "      <td>0</td>\n",
              "    </tr>\n",
              "    <tr>\n",
              "      <th>3</th>\n",
              "      <td>1.0</td>\n",
              "      <td>-0.966272</td>\n",
              "      <td>-0.185226</td>\n",
              "      <td>1.792993</td>\n",
              "      <td>-0.863291</td>\n",
              "      <td>-0.010309</td>\n",
              "      <td>1.247203</td>\n",
              "      <td>0.237609</td>\n",
              "      <td>0.377436</td>\n",
              "      <td>-1.387024</td>\n",
              "      <td>-0.054952</td>\n",
              "      <td>-0.226487</td>\n",
              "      <td>0.178228</td>\n",
              "      <td>0.507757</td>\n",
              "      <td>-0.287924</td>\n",
              "      <td>-0.631418</td>\n",
              "      <td>-1.059647</td>\n",
              "      <td>-0.684093</td>\n",
              "      <td>1.965775</td>\n",
              "      <td>-1.232622</td>\n",
              "      <td>-0.208038</td>\n",
              "      <td>-0.108300</td>\n",
              "      <td>0.005274</td>\n",
              "      <td>-0.190321</td>\n",
              "      <td>-1.175575</td>\n",
              "      <td>0.647376</td>\n",
              "      <td>-0.221929</td>\n",
              "      <td>0.062723</td>\n",
              "      <td>0.061458</td>\n",
              "      <td>123.50</td>\n",
              "      <td>0</td>\n",
              "    </tr>\n",
              "    <tr>\n",
              "      <th>4</th>\n",
              "      <td>2.0</td>\n",
              "      <td>-1.158233</td>\n",
              "      <td>0.877737</td>\n",
              "      <td>1.548718</td>\n",
              "      <td>0.403034</td>\n",
              "      <td>-0.407193</td>\n",
              "      <td>0.095921</td>\n",
              "      <td>0.592941</td>\n",
              "      <td>-0.270533</td>\n",
              "      <td>0.817739</td>\n",
              "      <td>0.753074</td>\n",
              "      <td>-0.822843</td>\n",
              "      <td>0.538196</td>\n",
              "      <td>1.345852</td>\n",
              "      <td>-1.119670</td>\n",
              "      <td>0.175121</td>\n",
              "      <td>-0.451449</td>\n",
              "      <td>-0.237033</td>\n",
              "      <td>-0.038195</td>\n",
              "      <td>0.803487</td>\n",
              "      <td>0.408542</td>\n",
              "      <td>-0.009431</td>\n",
              "      <td>0.798278</td>\n",
              "      <td>-0.137458</td>\n",
              "      <td>0.141267</td>\n",
              "      <td>-0.206010</td>\n",
              "      <td>0.502292</td>\n",
              "      <td>0.219422</td>\n",
              "      <td>0.215153</td>\n",
              "      <td>69.99</td>\n",
              "      <td>0</td>\n",
              "    </tr>\n",
              "    <tr>\n",
              "      <th>...</th>\n",
              "      <td>...</td>\n",
              "      <td>...</td>\n",
              "      <td>...</td>\n",
              "      <td>...</td>\n",
              "      <td>...</td>\n",
              "      <td>...</td>\n",
              "      <td>...</td>\n",
              "      <td>...</td>\n",
              "      <td>...</td>\n",
              "      <td>...</td>\n",
              "      <td>...</td>\n",
              "      <td>...</td>\n",
              "      <td>...</td>\n",
              "      <td>...</td>\n",
              "      <td>...</td>\n",
              "      <td>...</td>\n",
              "      <td>...</td>\n",
              "      <td>...</td>\n",
              "      <td>...</td>\n",
              "      <td>...</td>\n",
              "      <td>...</td>\n",
              "      <td>...</td>\n",
              "      <td>...</td>\n",
              "      <td>...</td>\n",
              "      <td>...</td>\n",
              "      <td>...</td>\n",
              "      <td>...</td>\n",
              "      <td>...</td>\n",
              "      <td>...</td>\n",
              "      <td>...</td>\n",
              "      <td>...</td>\n",
              "    </tr>\n",
              "    <tr>\n",
              "      <th>284802</th>\n",
              "      <td>172786.0</td>\n",
              "      <td>-11.881118</td>\n",
              "      <td>10.071785</td>\n",
              "      <td>-9.834783</td>\n",
              "      <td>-2.066656</td>\n",
              "      <td>-5.364473</td>\n",
              "      <td>-2.606837</td>\n",
              "      <td>-4.918215</td>\n",
              "      <td>7.305334</td>\n",
              "      <td>1.914428</td>\n",
              "      <td>4.356170</td>\n",
              "      <td>-1.593105</td>\n",
              "      <td>2.711941</td>\n",
              "      <td>-0.689256</td>\n",
              "      <td>4.626942</td>\n",
              "      <td>-0.924459</td>\n",
              "      <td>1.107641</td>\n",
              "      <td>1.991691</td>\n",
              "      <td>0.510632</td>\n",
              "      <td>-0.682920</td>\n",
              "      <td>1.475829</td>\n",
              "      <td>0.213454</td>\n",
              "      <td>0.111864</td>\n",
              "      <td>1.014480</td>\n",
              "      <td>-0.509348</td>\n",
              "      <td>1.436807</td>\n",
              "      <td>0.250034</td>\n",
              "      <td>0.943651</td>\n",
              "      <td>0.823731</td>\n",
              "      <td>0.77</td>\n",
              "      <td>0</td>\n",
              "    </tr>\n",
              "    <tr>\n",
              "      <th>284803</th>\n",
              "      <td>172787.0</td>\n",
              "      <td>-0.732789</td>\n",
              "      <td>-0.055080</td>\n",
              "      <td>2.035030</td>\n",
              "      <td>-0.738589</td>\n",
              "      <td>0.868229</td>\n",
              "      <td>1.058415</td>\n",
              "      <td>0.024330</td>\n",
              "      <td>0.294869</td>\n",
              "      <td>0.584800</td>\n",
              "      <td>-0.975926</td>\n",
              "      <td>-0.150189</td>\n",
              "      <td>0.915802</td>\n",
              "      <td>1.214756</td>\n",
              "      <td>-0.675143</td>\n",
              "      <td>1.164931</td>\n",
              "      <td>-0.711757</td>\n",
              "      <td>-0.025693</td>\n",
              "      <td>-1.221179</td>\n",
              "      <td>-1.545556</td>\n",
              "      <td>0.059616</td>\n",
              "      <td>0.214205</td>\n",
              "      <td>0.924384</td>\n",
              "      <td>0.012463</td>\n",
              "      <td>-1.016226</td>\n",
              "      <td>-0.606624</td>\n",
              "      <td>-0.395255</td>\n",
              "      <td>0.068472</td>\n",
              "      <td>-0.053527</td>\n",
              "      <td>24.79</td>\n",
              "      <td>0</td>\n",
              "    </tr>\n",
              "    <tr>\n",
              "      <th>284804</th>\n",
              "      <td>172788.0</td>\n",
              "      <td>1.919565</td>\n",
              "      <td>-0.301254</td>\n",
              "      <td>-3.249640</td>\n",
              "      <td>-0.557828</td>\n",
              "      <td>2.630515</td>\n",
              "      <td>3.031260</td>\n",
              "      <td>-0.296827</td>\n",
              "      <td>0.708417</td>\n",
              "      <td>0.432454</td>\n",
              "      <td>-0.484782</td>\n",
              "      <td>0.411614</td>\n",
              "      <td>0.063119</td>\n",
              "      <td>-0.183699</td>\n",
              "      <td>-0.510602</td>\n",
              "      <td>1.329284</td>\n",
              "      <td>0.140716</td>\n",
              "      <td>0.313502</td>\n",
              "      <td>0.395652</td>\n",
              "      <td>-0.577252</td>\n",
              "      <td>0.001396</td>\n",
              "      <td>0.232045</td>\n",
              "      <td>0.578229</td>\n",
              "      <td>-0.037501</td>\n",
              "      <td>0.640134</td>\n",
              "      <td>0.265745</td>\n",
              "      <td>-0.087371</td>\n",
              "      <td>0.004455</td>\n",
              "      <td>-0.026561</td>\n",
              "      <td>67.88</td>\n",
              "      <td>0</td>\n",
              "    </tr>\n",
              "    <tr>\n",
              "      <th>284805</th>\n",
              "      <td>172788.0</td>\n",
              "      <td>-0.240440</td>\n",
              "      <td>0.530483</td>\n",
              "      <td>0.702510</td>\n",
              "      <td>0.689799</td>\n",
              "      <td>-0.377961</td>\n",
              "      <td>0.623708</td>\n",
              "      <td>-0.686180</td>\n",
              "      <td>0.679145</td>\n",
              "      <td>0.392087</td>\n",
              "      <td>-0.399126</td>\n",
              "      <td>-1.933849</td>\n",
              "      <td>-0.962886</td>\n",
              "      <td>-1.042082</td>\n",
              "      <td>0.449624</td>\n",
              "      <td>1.962563</td>\n",
              "      <td>-0.608577</td>\n",
              "      <td>0.509928</td>\n",
              "      <td>1.113981</td>\n",
              "      <td>2.897849</td>\n",
              "      <td>0.127434</td>\n",
              "      <td>0.265245</td>\n",
              "      <td>0.800049</td>\n",
              "      <td>-0.163298</td>\n",
              "      <td>0.123205</td>\n",
              "      <td>-0.569159</td>\n",
              "      <td>0.546668</td>\n",
              "      <td>0.108821</td>\n",
              "      <td>0.104533</td>\n",
              "      <td>10.00</td>\n",
              "      <td>0</td>\n",
              "    </tr>\n",
              "    <tr>\n",
              "      <th>284806</th>\n",
              "      <td>172792.0</td>\n",
              "      <td>-0.533413</td>\n",
              "      <td>-0.189733</td>\n",
              "      <td>0.703337</td>\n",
              "      <td>-0.506271</td>\n",
              "      <td>-0.012546</td>\n",
              "      <td>-0.649617</td>\n",
              "      <td>1.577006</td>\n",
              "      <td>-0.414650</td>\n",
              "      <td>0.486180</td>\n",
              "      <td>-0.915427</td>\n",
              "      <td>-1.040458</td>\n",
              "      <td>-0.031513</td>\n",
              "      <td>-0.188093</td>\n",
              "      <td>-0.084316</td>\n",
              "      <td>0.041333</td>\n",
              "      <td>-0.302620</td>\n",
              "      <td>-0.660377</td>\n",
              "      <td>0.167430</td>\n",
              "      <td>-0.256117</td>\n",
              "      <td>0.382948</td>\n",
              "      <td>0.261057</td>\n",
              "      <td>0.643078</td>\n",
              "      <td>0.376777</td>\n",
              "      <td>0.008797</td>\n",
              "      <td>-0.473649</td>\n",
              "      <td>-0.818267</td>\n",
              "      <td>-0.002415</td>\n",
              "      <td>0.013649</td>\n",
              "      <td>217.00</td>\n",
              "      <td>0</td>\n",
              "    </tr>\n",
              "  </tbody>\n",
              "</table>\n",
              "<p>284807 rows × 31 columns</p>\n",
              "</div>"
            ],
            "text/plain": [
              "            Time         V1         V2  ...       V28  Amount  Class\n",
              "0            0.0  -1.359807  -0.072781  ... -0.021053  149.62      0\n",
              "1            0.0   1.191857   0.266151  ...  0.014724    2.69      0\n",
              "2            1.0  -1.358354  -1.340163  ... -0.059752  378.66      0\n",
              "3            1.0  -0.966272  -0.185226  ...  0.061458  123.50      0\n",
              "4            2.0  -1.158233   0.877737  ...  0.215153   69.99      0\n",
              "...          ...        ...        ...  ...       ...     ...    ...\n",
              "284802  172786.0 -11.881118  10.071785  ...  0.823731    0.77      0\n",
              "284803  172787.0  -0.732789  -0.055080  ... -0.053527   24.79      0\n",
              "284804  172788.0   1.919565  -0.301254  ... -0.026561   67.88      0\n",
              "284805  172788.0  -0.240440   0.530483  ...  0.104533   10.00      0\n",
              "284806  172792.0  -0.533413  -0.189733  ...  0.013649  217.00      0\n",
              "\n",
              "[284807 rows x 31 columns]"
            ]
          },
          "metadata": {},
          "execution_count": 3
        }
      ]
    },
    {
      "cell_type": "markdown",
      "metadata": {
        "id": "H48VRKdyHebN"
      },
      "source": [
        "There are 284807 rows of data and 31 columns. The columns are:  \n",
        "\n",
        "1. A 'Time' column which represents the time (in seconds) that have passed for each transaction since the beginning of the dataset\n",
        "2. The 28 principal components (V1-V28)\n",
        "3. An 'Amount' column which represents the transaction amount\n",
        "4. The 'Class' column which represets frad vs non-fraud.\n"
      ]
    },
    {
      "cell_type": "code",
      "metadata": {
        "colab": {
          "base_uri": "https://localhost:8080/",
          "height": 320
        },
        "id": "TSw1yaAaTr0h",
        "outputId": "5f6d4a57-3d11-451c-922b-5ca49f0be1fc"
      },
      "source": [
        "df.describe()"
      ],
      "execution_count": 4,
      "outputs": [
        {
          "output_type": "execute_result",
          "data": {
            "text/html": [
              "<div>\n",
              "<style scoped>\n",
              "    .dataframe tbody tr th:only-of-type {\n",
              "        vertical-align: middle;\n",
              "    }\n",
              "\n",
              "    .dataframe tbody tr th {\n",
              "        vertical-align: top;\n",
              "    }\n",
              "\n",
              "    .dataframe thead th {\n",
              "        text-align: right;\n",
              "    }\n",
              "</style>\n",
              "<table border=\"1\" class=\"dataframe\">\n",
              "  <thead>\n",
              "    <tr style=\"text-align: right;\">\n",
              "      <th></th>\n",
              "      <th>Time</th>\n",
              "      <th>V1</th>\n",
              "      <th>V2</th>\n",
              "      <th>V3</th>\n",
              "      <th>V4</th>\n",
              "      <th>V5</th>\n",
              "      <th>V6</th>\n",
              "      <th>V7</th>\n",
              "      <th>V8</th>\n",
              "      <th>V9</th>\n",
              "      <th>V10</th>\n",
              "      <th>V11</th>\n",
              "      <th>V12</th>\n",
              "      <th>V13</th>\n",
              "      <th>V14</th>\n",
              "      <th>V15</th>\n",
              "      <th>V16</th>\n",
              "      <th>V17</th>\n",
              "      <th>V18</th>\n",
              "      <th>V19</th>\n",
              "      <th>V20</th>\n",
              "      <th>V21</th>\n",
              "      <th>V22</th>\n",
              "      <th>V23</th>\n",
              "      <th>V24</th>\n",
              "      <th>V25</th>\n",
              "      <th>V26</th>\n",
              "      <th>V27</th>\n",
              "      <th>V28</th>\n",
              "      <th>Amount</th>\n",
              "      <th>Class</th>\n",
              "    </tr>\n",
              "  </thead>\n",
              "  <tbody>\n",
              "    <tr>\n",
              "      <th>count</th>\n",
              "      <td>284807.000000</td>\n",
              "      <td>2.848070e+05</td>\n",
              "      <td>2.848070e+05</td>\n",
              "      <td>2.848070e+05</td>\n",
              "      <td>2.848070e+05</td>\n",
              "      <td>2.848070e+05</td>\n",
              "      <td>2.848070e+05</td>\n",
              "      <td>2.848070e+05</td>\n",
              "      <td>2.848070e+05</td>\n",
              "      <td>2.848070e+05</td>\n",
              "      <td>2.848070e+05</td>\n",
              "      <td>2.848070e+05</td>\n",
              "      <td>2.848070e+05</td>\n",
              "      <td>2.848070e+05</td>\n",
              "      <td>2.848070e+05</td>\n",
              "      <td>2.848070e+05</td>\n",
              "      <td>2.848070e+05</td>\n",
              "      <td>2.848070e+05</td>\n",
              "      <td>2.848070e+05</td>\n",
              "      <td>2.848070e+05</td>\n",
              "      <td>2.848070e+05</td>\n",
              "      <td>2.848070e+05</td>\n",
              "      <td>2.848070e+05</td>\n",
              "      <td>2.848070e+05</td>\n",
              "      <td>2.848070e+05</td>\n",
              "      <td>2.848070e+05</td>\n",
              "      <td>2.848070e+05</td>\n",
              "      <td>2.848070e+05</td>\n",
              "      <td>2.848070e+05</td>\n",
              "      <td>284807.000000</td>\n",
              "      <td>284807.000000</td>\n",
              "    </tr>\n",
              "    <tr>\n",
              "      <th>mean</th>\n",
              "      <td>94813.859575</td>\n",
              "      <td>3.919560e-15</td>\n",
              "      <td>5.688174e-16</td>\n",
              "      <td>-8.769071e-15</td>\n",
              "      <td>2.782312e-15</td>\n",
              "      <td>-1.552563e-15</td>\n",
              "      <td>2.010663e-15</td>\n",
              "      <td>-1.694249e-15</td>\n",
              "      <td>-1.927028e-16</td>\n",
              "      <td>-3.137024e-15</td>\n",
              "      <td>1.768627e-15</td>\n",
              "      <td>9.170318e-16</td>\n",
              "      <td>-1.810658e-15</td>\n",
              "      <td>1.693438e-15</td>\n",
              "      <td>1.479045e-15</td>\n",
              "      <td>3.482336e-15</td>\n",
              "      <td>1.392007e-15</td>\n",
              "      <td>-7.528491e-16</td>\n",
              "      <td>4.328772e-16</td>\n",
              "      <td>9.049732e-16</td>\n",
              "      <td>5.085503e-16</td>\n",
              "      <td>1.537294e-16</td>\n",
              "      <td>7.959909e-16</td>\n",
              "      <td>5.367590e-16</td>\n",
              "      <td>4.458112e-15</td>\n",
              "      <td>1.453003e-15</td>\n",
              "      <td>1.699104e-15</td>\n",
              "      <td>-3.660161e-16</td>\n",
              "      <td>-1.206049e-16</td>\n",
              "      <td>88.349619</td>\n",
              "      <td>0.001727</td>\n",
              "    </tr>\n",
              "    <tr>\n",
              "      <th>std</th>\n",
              "      <td>47488.145955</td>\n",
              "      <td>1.958696e+00</td>\n",
              "      <td>1.651309e+00</td>\n",
              "      <td>1.516255e+00</td>\n",
              "      <td>1.415869e+00</td>\n",
              "      <td>1.380247e+00</td>\n",
              "      <td>1.332271e+00</td>\n",
              "      <td>1.237094e+00</td>\n",
              "      <td>1.194353e+00</td>\n",
              "      <td>1.098632e+00</td>\n",
              "      <td>1.088850e+00</td>\n",
              "      <td>1.020713e+00</td>\n",
              "      <td>9.992014e-01</td>\n",
              "      <td>9.952742e-01</td>\n",
              "      <td>9.585956e-01</td>\n",
              "      <td>9.153160e-01</td>\n",
              "      <td>8.762529e-01</td>\n",
              "      <td>8.493371e-01</td>\n",
              "      <td>8.381762e-01</td>\n",
              "      <td>8.140405e-01</td>\n",
              "      <td>7.709250e-01</td>\n",
              "      <td>7.345240e-01</td>\n",
              "      <td>7.257016e-01</td>\n",
              "      <td>6.244603e-01</td>\n",
              "      <td>6.056471e-01</td>\n",
              "      <td>5.212781e-01</td>\n",
              "      <td>4.822270e-01</td>\n",
              "      <td>4.036325e-01</td>\n",
              "      <td>3.300833e-01</td>\n",
              "      <td>250.120109</td>\n",
              "      <td>0.041527</td>\n",
              "    </tr>\n",
              "    <tr>\n",
              "      <th>min</th>\n",
              "      <td>0.000000</td>\n",
              "      <td>-5.640751e+01</td>\n",
              "      <td>-7.271573e+01</td>\n",
              "      <td>-4.832559e+01</td>\n",
              "      <td>-5.683171e+00</td>\n",
              "      <td>-1.137433e+02</td>\n",
              "      <td>-2.616051e+01</td>\n",
              "      <td>-4.355724e+01</td>\n",
              "      <td>-7.321672e+01</td>\n",
              "      <td>-1.343407e+01</td>\n",
              "      <td>-2.458826e+01</td>\n",
              "      <td>-4.797473e+00</td>\n",
              "      <td>-1.868371e+01</td>\n",
              "      <td>-5.791881e+00</td>\n",
              "      <td>-1.921433e+01</td>\n",
              "      <td>-4.498945e+00</td>\n",
              "      <td>-1.412985e+01</td>\n",
              "      <td>-2.516280e+01</td>\n",
              "      <td>-9.498746e+00</td>\n",
              "      <td>-7.213527e+00</td>\n",
              "      <td>-5.449772e+01</td>\n",
              "      <td>-3.483038e+01</td>\n",
              "      <td>-1.093314e+01</td>\n",
              "      <td>-4.480774e+01</td>\n",
              "      <td>-2.836627e+00</td>\n",
              "      <td>-1.029540e+01</td>\n",
              "      <td>-2.604551e+00</td>\n",
              "      <td>-2.256568e+01</td>\n",
              "      <td>-1.543008e+01</td>\n",
              "      <td>0.000000</td>\n",
              "      <td>0.000000</td>\n",
              "    </tr>\n",
              "    <tr>\n",
              "      <th>25%</th>\n",
              "      <td>54201.500000</td>\n",
              "      <td>-9.203734e-01</td>\n",
              "      <td>-5.985499e-01</td>\n",
              "      <td>-8.903648e-01</td>\n",
              "      <td>-8.486401e-01</td>\n",
              "      <td>-6.915971e-01</td>\n",
              "      <td>-7.682956e-01</td>\n",
              "      <td>-5.540759e-01</td>\n",
              "      <td>-2.086297e-01</td>\n",
              "      <td>-6.430976e-01</td>\n",
              "      <td>-5.354257e-01</td>\n",
              "      <td>-7.624942e-01</td>\n",
              "      <td>-4.055715e-01</td>\n",
              "      <td>-6.485393e-01</td>\n",
              "      <td>-4.255740e-01</td>\n",
              "      <td>-5.828843e-01</td>\n",
              "      <td>-4.680368e-01</td>\n",
              "      <td>-4.837483e-01</td>\n",
              "      <td>-4.988498e-01</td>\n",
              "      <td>-4.562989e-01</td>\n",
              "      <td>-2.117214e-01</td>\n",
              "      <td>-2.283949e-01</td>\n",
              "      <td>-5.423504e-01</td>\n",
              "      <td>-1.618463e-01</td>\n",
              "      <td>-3.545861e-01</td>\n",
              "      <td>-3.171451e-01</td>\n",
              "      <td>-3.269839e-01</td>\n",
              "      <td>-7.083953e-02</td>\n",
              "      <td>-5.295979e-02</td>\n",
              "      <td>5.600000</td>\n",
              "      <td>0.000000</td>\n",
              "    </tr>\n",
              "    <tr>\n",
              "      <th>50%</th>\n",
              "      <td>84692.000000</td>\n",
              "      <td>1.810880e-02</td>\n",
              "      <td>6.548556e-02</td>\n",
              "      <td>1.798463e-01</td>\n",
              "      <td>-1.984653e-02</td>\n",
              "      <td>-5.433583e-02</td>\n",
              "      <td>-2.741871e-01</td>\n",
              "      <td>4.010308e-02</td>\n",
              "      <td>2.235804e-02</td>\n",
              "      <td>-5.142873e-02</td>\n",
              "      <td>-9.291738e-02</td>\n",
              "      <td>-3.275735e-02</td>\n",
              "      <td>1.400326e-01</td>\n",
              "      <td>-1.356806e-02</td>\n",
              "      <td>5.060132e-02</td>\n",
              "      <td>4.807155e-02</td>\n",
              "      <td>6.641332e-02</td>\n",
              "      <td>-6.567575e-02</td>\n",
              "      <td>-3.636312e-03</td>\n",
              "      <td>3.734823e-03</td>\n",
              "      <td>-6.248109e-02</td>\n",
              "      <td>-2.945017e-02</td>\n",
              "      <td>6.781943e-03</td>\n",
              "      <td>-1.119293e-02</td>\n",
              "      <td>4.097606e-02</td>\n",
              "      <td>1.659350e-02</td>\n",
              "      <td>-5.213911e-02</td>\n",
              "      <td>1.342146e-03</td>\n",
              "      <td>1.124383e-02</td>\n",
              "      <td>22.000000</td>\n",
              "      <td>0.000000</td>\n",
              "    </tr>\n",
              "    <tr>\n",
              "      <th>75%</th>\n",
              "      <td>139320.500000</td>\n",
              "      <td>1.315642e+00</td>\n",
              "      <td>8.037239e-01</td>\n",
              "      <td>1.027196e+00</td>\n",
              "      <td>7.433413e-01</td>\n",
              "      <td>6.119264e-01</td>\n",
              "      <td>3.985649e-01</td>\n",
              "      <td>5.704361e-01</td>\n",
              "      <td>3.273459e-01</td>\n",
              "      <td>5.971390e-01</td>\n",
              "      <td>4.539234e-01</td>\n",
              "      <td>7.395934e-01</td>\n",
              "      <td>6.182380e-01</td>\n",
              "      <td>6.625050e-01</td>\n",
              "      <td>4.931498e-01</td>\n",
              "      <td>6.488208e-01</td>\n",
              "      <td>5.232963e-01</td>\n",
              "      <td>3.996750e-01</td>\n",
              "      <td>5.008067e-01</td>\n",
              "      <td>4.589494e-01</td>\n",
              "      <td>1.330408e-01</td>\n",
              "      <td>1.863772e-01</td>\n",
              "      <td>5.285536e-01</td>\n",
              "      <td>1.476421e-01</td>\n",
              "      <td>4.395266e-01</td>\n",
              "      <td>3.507156e-01</td>\n",
              "      <td>2.409522e-01</td>\n",
              "      <td>9.104512e-02</td>\n",
              "      <td>7.827995e-02</td>\n",
              "      <td>77.165000</td>\n",
              "      <td>0.000000</td>\n",
              "    </tr>\n",
              "    <tr>\n",
              "      <th>max</th>\n",
              "      <td>172792.000000</td>\n",
              "      <td>2.454930e+00</td>\n",
              "      <td>2.205773e+01</td>\n",
              "      <td>9.382558e+00</td>\n",
              "      <td>1.687534e+01</td>\n",
              "      <td>3.480167e+01</td>\n",
              "      <td>7.330163e+01</td>\n",
              "      <td>1.205895e+02</td>\n",
              "      <td>2.000721e+01</td>\n",
              "      <td>1.559499e+01</td>\n",
              "      <td>2.374514e+01</td>\n",
              "      <td>1.201891e+01</td>\n",
              "      <td>7.848392e+00</td>\n",
              "      <td>7.126883e+00</td>\n",
              "      <td>1.052677e+01</td>\n",
              "      <td>8.877742e+00</td>\n",
              "      <td>1.731511e+01</td>\n",
              "      <td>9.253526e+00</td>\n",
              "      <td>5.041069e+00</td>\n",
              "      <td>5.591971e+00</td>\n",
              "      <td>3.942090e+01</td>\n",
              "      <td>2.720284e+01</td>\n",
              "      <td>1.050309e+01</td>\n",
              "      <td>2.252841e+01</td>\n",
              "      <td>4.584549e+00</td>\n",
              "      <td>7.519589e+00</td>\n",
              "      <td>3.517346e+00</td>\n",
              "      <td>3.161220e+01</td>\n",
              "      <td>3.384781e+01</td>\n",
              "      <td>25691.160000</td>\n",
              "      <td>1.000000</td>\n",
              "    </tr>\n",
              "  </tbody>\n",
              "</table>\n",
              "</div>"
            ],
            "text/plain": [
              "                Time            V1  ...         Amount          Class\n",
              "count  284807.000000  2.848070e+05  ...  284807.000000  284807.000000\n",
              "mean    94813.859575  3.919560e-15  ...      88.349619       0.001727\n",
              "std     47488.145955  1.958696e+00  ...     250.120109       0.041527\n",
              "min         0.000000 -5.640751e+01  ...       0.000000       0.000000\n",
              "25%     54201.500000 -9.203734e-01  ...       5.600000       0.000000\n",
              "50%     84692.000000  1.810880e-02  ...      22.000000       0.000000\n",
              "75%    139320.500000  1.315642e+00  ...      77.165000       0.000000\n",
              "max    172792.000000  2.454930e+00  ...   25691.160000       1.000000\n",
              "\n",
              "[8 rows x 31 columns]"
            ]
          },
          "metadata": {},
          "execution_count": 4
        }
      ]
    },
    {
      "cell_type": "code",
      "metadata": {
        "colab": {
          "base_uri": "https://localhost:8080/",
          "height": 112
        },
        "id": "O_YmjHXATw9A",
        "outputId": "7bd0c3fc-bf0f-402b-eaf2-96edb0745499"
      },
      "source": [
        "total = df.isnull().sum().sort_values(ascending = False)\n",
        "percent = (df.isnull().sum()/df.isnull().count()*100).sort_values(ascending = False)\n",
        "pd.concat([total, percent], axis=1, keys=['Total', 'Percent']).transpose()"
      ],
      "execution_count": 5,
      "outputs": [
        {
          "output_type": "execute_result",
          "data": {
            "text/html": [
              "<div>\n",
              "<style scoped>\n",
              "    .dataframe tbody tr th:only-of-type {\n",
              "        vertical-align: middle;\n",
              "    }\n",
              "\n",
              "    .dataframe tbody tr th {\n",
              "        vertical-align: top;\n",
              "    }\n",
              "\n",
              "    .dataframe thead th {\n",
              "        text-align: right;\n",
              "    }\n",
              "</style>\n",
              "<table border=\"1\" class=\"dataframe\">\n",
              "  <thead>\n",
              "    <tr style=\"text-align: right;\">\n",
              "      <th></th>\n",
              "      <th>Class</th>\n",
              "      <th>V14</th>\n",
              "      <th>V1</th>\n",
              "      <th>V2</th>\n",
              "      <th>V3</th>\n",
              "      <th>V4</th>\n",
              "      <th>V5</th>\n",
              "      <th>V6</th>\n",
              "      <th>V7</th>\n",
              "      <th>V8</th>\n",
              "      <th>V9</th>\n",
              "      <th>V10</th>\n",
              "      <th>V11</th>\n",
              "      <th>V12</th>\n",
              "      <th>V13</th>\n",
              "      <th>V15</th>\n",
              "      <th>Amount</th>\n",
              "      <th>V16</th>\n",
              "      <th>V17</th>\n",
              "      <th>V18</th>\n",
              "      <th>V19</th>\n",
              "      <th>V20</th>\n",
              "      <th>V21</th>\n",
              "      <th>V22</th>\n",
              "      <th>V23</th>\n",
              "      <th>V24</th>\n",
              "      <th>V25</th>\n",
              "      <th>V26</th>\n",
              "      <th>V27</th>\n",
              "      <th>V28</th>\n",
              "      <th>Time</th>\n",
              "    </tr>\n",
              "  </thead>\n",
              "  <tbody>\n",
              "    <tr>\n",
              "      <th>Total</th>\n",
              "      <td>0.0</td>\n",
              "      <td>0.0</td>\n",
              "      <td>0.0</td>\n",
              "      <td>0.0</td>\n",
              "      <td>0.0</td>\n",
              "      <td>0.0</td>\n",
              "      <td>0.0</td>\n",
              "      <td>0.0</td>\n",
              "      <td>0.0</td>\n",
              "      <td>0.0</td>\n",
              "      <td>0.0</td>\n",
              "      <td>0.0</td>\n",
              "      <td>0.0</td>\n",
              "      <td>0.0</td>\n",
              "      <td>0.0</td>\n",
              "      <td>0.0</td>\n",
              "      <td>0.0</td>\n",
              "      <td>0.0</td>\n",
              "      <td>0.0</td>\n",
              "      <td>0.0</td>\n",
              "      <td>0.0</td>\n",
              "      <td>0.0</td>\n",
              "      <td>0.0</td>\n",
              "      <td>0.0</td>\n",
              "      <td>0.0</td>\n",
              "      <td>0.0</td>\n",
              "      <td>0.0</td>\n",
              "      <td>0.0</td>\n",
              "      <td>0.0</td>\n",
              "      <td>0.0</td>\n",
              "      <td>0.0</td>\n",
              "    </tr>\n",
              "    <tr>\n",
              "      <th>Percent</th>\n",
              "      <td>0.0</td>\n",
              "      <td>0.0</td>\n",
              "      <td>0.0</td>\n",
              "      <td>0.0</td>\n",
              "      <td>0.0</td>\n",
              "      <td>0.0</td>\n",
              "      <td>0.0</td>\n",
              "      <td>0.0</td>\n",
              "      <td>0.0</td>\n",
              "      <td>0.0</td>\n",
              "      <td>0.0</td>\n",
              "      <td>0.0</td>\n",
              "      <td>0.0</td>\n",
              "      <td>0.0</td>\n",
              "      <td>0.0</td>\n",
              "      <td>0.0</td>\n",
              "      <td>0.0</td>\n",
              "      <td>0.0</td>\n",
              "      <td>0.0</td>\n",
              "      <td>0.0</td>\n",
              "      <td>0.0</td>\n",
              "      <td>0.0</td>\n",
              "      <td>0.0</td>\n",
              "      <td>0.0</td>\n",
              "      <td>0.0</td>\n",
              "      <td>0.0</td>\n",
              "      <td>0.0</td>\n",
              "      <td>0.0</td>\n",
              "      <td>0.0</td>\n",
              "      <td>0.0</td>\n",
              "      <td>0.0</td>\n",
              "    </tr>\n",
              "  </tbody>\n",
              "</table>\n",
              "</div>"
            ],
            "text/plain": [
              "         Class  V14   V1   V2   V3   V4  ...  V24  V25  V26  V27  V28  Time\n",
              "Total      0.0  0.0  0.0  0.0  0.0  0.0  ...  0.0  0.0  0.0  0.0  0.0   0.0\n",
              "Percent    0.0  0.0  0.0  0.0  0.0  0.0  ...  0.0  0.0  0.0  0.0  0.0   0.0\n",
              "\n",
              "[2 rows x 31 columns]"
            ]
          },
          "metadata": {},
          "execution_count": 5
        }
      ]
    },
    {
      "cell_type": "markdown",
      "metadata": {
        "id": "6ergV_PeT3Gk"
      },
      "source": [
        "No missing data"
      ]
    },
    {
      "cell_type": "code",
      "metadata": {
        "colab": {
          "base_uri": "https://localhost:8080/",
          "height": 295
        },
        "id": "Y3XgK2iOvDs0",
        "outputId": "932be9f7-caf4-4aeb-9cbf-cc5176750cd1"
      },
      "source": [
        "ax = sns.countplot(x=df.Class, data=df).set(title='Class histogram', xlabel='0: Non-Fraud     1: Fraud', ylabel='Frequency')"
      ],
      "execution_count": 6,
      "outputs": [
        {
          "output_type": "display_data",
          "data": {
            "image/png": "[encoded data removed]",
            "text/plain": [
              "<Figure size 432x288 with 1 Axes>"
            ]
          },
          "metadata": {
            "needs_background": "light"
          }
        }
      ]
    },
    {
      "cell_type": "code",
      "metadata": {
        "colab": {
          "base_uri": "https://localhost:8080/"
        },
        "id": "kMvm4f9IK3UU",
        "outputId": "b3a33744-4dd9-4346-eac0-9c98b1dc9309"
      },
      "source": [
        "df.Class.value_counts()"
      ],
      "execution_count": 7,
      "outputs": [
        {
          "output_type": "execute_result",
          "data": {
            "text/plain": [
              "0    284315\n",
              "1       492\n",
              "Name: Class, dtype: int64"
            ]
          },
          "metadata": {},
          "execution_count": 7
        }
      ]
    },
    {
      "cell_type": "markdown",
      "metadata": {
        "id": "Dyb2LJC1KsT-"
      },
      "source": [
        "Huge class imbalance problem. Only 492 out of the 284807 transactions are actually fraudulent. Accuracy will not be a great performance metric for a model. A better approach would be ROC techniques (Precision/Recall). Another option would be to undersample the non-fraud transactions in order to obtain an equal dataset."
      ]
    },
    {
      "cell_type": "code",
      "metadata": {
        "id": "Yu_AsXhAxboV"
      },
      "source": [
        "# Scaling the 'Amount' and 'Time' columns\n",
        "\n",
        "df['Amount_adj'] = StandardScaler().fit_transform(df['Amount'].values.reshape(-1, 1))\n",
        "df['Time_adj'] = StandardScaler().fit_transform(df['Time'].values.reshape(-1, 1))\n",
        "\n",
        "df.drop(columns=['Amount', 'Time'], inplace=True)"
      ],
      "execution_count": 8,
      "outputs": []
    },
    {
      "cell_type": "code",
      "metadata": {
        "colab": {
          "base_uri": "https://localhost:8080/",
          "height": 521
        },
        "id": "BgrK1I2t-Yv5",
        "outputId": "9725b1b3-0cdb-48ef-c483-0f361b6eaf82"
      },
      "source": [
        "corr = df.corr() # Correlation Matrix\n",
        "\n",
        "mask = np.zeros_like(corr)\n",
        "mask[np.triu_indices_from(mask)] = True  # Making sure we only get bottom left triangle of correlations\n",
        "\n",
        "cmap = sns.diverging_palette(150, 275, as_cmap=True) # Nicer color map\n",
        "\n",
        "with sns.axes_style(\"white\"):            # Hiding masked part\n",
        "    f, ax = plt.subplots(figsize=(9, 9))\n",
        "    ax = sns.heatmap(corr, mask=mask, square=True, cmap=cmap, center=0, linewidths=0.5, cbar_kws={\"shrink\": 0.7})\n",
        "    ax.set_title('Correlation Heatmap', fontdict={'fontsize':12}, pad=12);"
      ],
      "execution_count": 9,
      "outputs": [
        {
          "output_type": "display_data",
          "data": {
            "image/png": "[encoded data removed]",
            "text/plain": [
              "<Figure size 648x648 with 2 Axes>"
            ]
          },
          "metadata": {}
        }
      ]
    },
    {
      "cell_type": "markdown",
      "metadata": {
        "id": "mvQAN_bLYoP0"
      },
      "source": [
        "Because of the nature of the PCA algorithm, the majority of the features (all of the principal components) do no correlate, therefore the only squares with any color on a correlation heatmap are the ones including either the \"amount\" or \"time\" columns of the data. This lets us see how correlated each of the components is with respect to both the time and the amount of each transaction. Unfortunately, this does not provide much use. "
      ]
    },
    {
      "cell_type": "markdown",
      "metadata": {
        "id": "aBbj_09YXHed"
      },
      "source": [
        "# First method: Logistic Regression"
      ]
    },
    {
      "cell_type": "code",
      "metadata": {
        "id": "1cpYmlYKYGu3"
      },
      "source": [
        "X = df.drop(columns=['Class'])    # feature matrix\n",
        "y = df.Class.values               # label vector"
      ],
      "execution_count": 10,
      "outputs": []
    },
    {
      "cell_type": "code",
      "metadata": {
        "id": "4A2RmRSf_KdG"
      },
      "source": [
        "# Split some of our training data to become testing data.\n",
        "X_train, X_test, y_train, y_test = train_test_split(X, y, test_size=0.2, random_state=0) "
      ],
      "execution_count": 11,
      "outputs": []
    },
    {
      "cell_type": "code",
      "metadata": {
        "id": "pc-nbSFN_YXl"
      },
      "source": [
        "clf = LogisticRegression().fit(X_train, y_train)      "
      ],
      "execution_count": 12,
      "outputs": []
    },
    {
      "cell_type": "code",
      "metadata": {
        "colab": {
          "base_uri": "https://localhost:8080/"
        },
        "id": "kJ5xUP9M_bA1",
        "outputId": "8fcb62d8-907d-405e-c449-56ff81e8ce2d"
      },
      "source": [
        "# Testing Metrics\n",
        "y_pred = clf.predict(X_test)\n",
        "y_probs = clf.predict_proba(X_test)[:, 1]\n",
        "auc = metrics.roc_auc_score(y_test, y_probs)*100\n",
        "cm = metrics.confusion_matrix(y_test, y_pred)\n",
        "print('Confusion matrix:\\n', cm)\n",
        "print(f\"AUC: {auc}\")\n",
        "print(metrics.classification_report(y_test, y_pred, digits=4))"
      ],
      "execution_count": 13,
      "outputs": [
        {
          "output_type": "stream",
          "name": "stdout",
          "text": [
            "Confusion matrix:\n",
            " [[56852     9]\n",
            " [   37    64]]\n",
            "AUC: 97.77959488145575\n",
            "              precision    recall  f1-score   support\n",
            "\n",
            "           0     0.9993    0.9998    0.9996     56861\n",
            "           1     0.8767    0.6337    0.7356       101\n",
            "\n",
            "    accuracy                         0.9992     56962\n",
            "   macro avg     0.9380    0.8168    0.8676     56962\n",
            "weighted avg     0.9991    0.9992    0.9991     56962\n",
            "\n"
          ]
        }
      ]
    },
    {
      "cell_type": "markdown",
      "metadata": {
        "id": "-Up1fyUrJ3nV"
      },
      "source": [
        "Here the recall is ~0.63, which can definitely be improved, while the precision is ~0.87. The AUC Score is 97.78, very high but makes sense due to our vastly imbalanced problem. False negatives mean not catching a fraudulent transaction (obviously a big deal), meanwhile false positives means mistaking a fair transaction for being fraudulent (i.e. a false alarm, still annoying and can cause customer frustration and would require fixing, but not as big of a problem as actual fraud). Therefore recall (TP / (TP + FN)) is more important in this scenario, and so it might be a good idea to sacrifice some precisison (TP / (TP + FP)) for an increased recall. Lets look at the ROC."
      ]
    },
    {
      "cell_type": "code",
      "metadata": {
        "colab": {
          "base_uri": "https://localhost:8080/",
          "height": 279
        },
        "id": "-Plh3fWcAjZV",
        "outputId": "de03c5d1-a2e6-40f4-ffec-b1c1959aee67"
      },
      "source": [
        "# Taking a look at the ROC\n",
        "fpr, tpr, thresholds = metrics.roc_curve(y_test, y_probs, drop_intermediate=True)\n",
        "roc_auc = metrics.auc(fpr, tpr)\n",
        "display = metrics.RocCurveDisplay(fpr=fpr, tpr=tpr, roc_auc=roc_auc, estimator_name=\"Simple Log Reg\")\n",
        "ax = display.plot()"
      ],
      "execution_count": 14,
      "outputs": [
        {
          "output_type": "display_data",
          "data": {
            "image/png": "[encoded data removed]",
            "text/plain": [
              "<Figure size 432x288 with 1 Axes>"
            ]
          },
          "metadata": {
            "needs_background": "light"
          }
        }
      ]
    },
    {
      "cell_type": "code",
      "metadata": {
        "colab": {
          "base_uri": "https://localhost:8080/"
        },
        "id": "DQnKXw6cAqQD",
        "outputId": "d1f58b54-ca2b-4aff-b74a-222d8c997ea1"
      },
      "source": [
        "# Adjusting threshold down to 10%\n",
        "adj_probs = (y_probs > 0.10) * 1\n",
        "adj_cm = metrics.confusion_matrix(y_test, adj_probs)\n",
        "print('Confusion matrix:\\n', adj_cm)\n",
        "print(metrics.classification_report(y_test, adj_probs, digits=4))"
      ],
      "execution_count": 15,
      "outputs": [
        {
          "output_type": "stream",
          "name": "stdout",
          "text": [
            "Confusion matrix:\n",
            " [[56845    16]\n",
            " [   20    81]]\n",
            "              precision    recall  f1-score   support\n",
            "\n",
            "           0     0.9996    0.9997    0.9997     56861\n",
            "           1     0.8351    0.8020    0.8182       101\n",
            "\n",
            "    accuracy                         0.9994     56962\n",
            "   macro avg     0.9173    0.9008    0.9089     56962\n",
            "weighted avg     0.9994    0.9994    0.9994     56962\n",
            "\n"
          ]
        }
      ]
    },
    {
      "cell_type": "markdown",
      "metadata": {
        "id": "4MU9ZId7Xy2k"
      },
      "source": [
        "After lowering the threshold to 10%, the recall increased ~.17 from ~.63 to ~.80. Still not perfect, but way better as now there are way fewer false negatives. There are more false positives now and so the precision fell from ~0.87 to ~0.83, but I assume banks would rather deal with a little more false alarms and way less frauds than vice versa."
      ]
    },
    {
      "cell_type": "markdown",
      "metadata": {
        "id": "IZQQpLA44e9J"
      },
      "source": [
        "Will using a deep neural network have better results?"
      ]
    },
    {
      "cell_type": "code",
      "metadata": {
        "colab": {
          "base_uri": "https://localhost:8080/"
        },
        "id": "88HKLwwA4ry9",
        "outputId": "ee522c3e-52cc-4259-ea24-569935500068"
      },
      "source": [
        "# Using a DNN with 3 hidden layers (128, 64, 32), and tanh activation functions for each. Also 25% dropout to prevent overfitting.\n",
        "# Last layer needs to be able to classify between freud and non-fraud so it is left with a size of 1, sigmoid activation, and binary crossentropy is\n",
        "# chosen for the loss function. \n",
        "model = keras.Sequential()\n",
        "model.add(keras.layers.Dense(128, input_shape=(30,), activation='tanh'))\n",
        "model.add(keras.layers.Dropout(0.25))\n",
        "model.add(keras.layers.Dense(64, activation='tanh'))\n",
        "model.add(keras.layers.Dropout(0.25))\n",
        "model.add(keras.layers.Dense(32, activation='tanh'))\n",
        "model.add(keras.layers.Dropout(0.25))\n",
        "model.add(keras.layers.Dense(1, activation='sigmoid'))\n",
        " \n",
        "model.compile(optimizer='adam', loss='binary_crossentropy', metrics=[keras.metrics.AUC()])\n",
        " \n",
        "model.fit(X_train, y_train, epochs=30, batch_size=100)"
      ],
      "execution_count": 16,
      "outputs": [
        {
          "output_type": "stream",
          "name": "stdout",
          "text": [
            "Epoch 1/30\n",
            "2279/2279 [==============================] - 7s 3ms/step - loss: 0.0171 - auc: 0.9033\n",
            "Epoch 2/30\n",
            "2279/2279 [==============================] - 6s 3ms/step - loss: 0.0036 - auc: 0.9261\n",
            "Epoch 3/30\n",
            "2279/2279 [==============================] - 7s 3ms/step - loss: 0.0035 - auc: 0.9326\n",
            "Epoch 4/30\n",
            "2279/2279 [==============================] - 7s 3ms/step - loss: 0.0034 - auc: 0.9365\n",
            "Epoch 5/30\n",
            "2279/2279 [==============================] - 6s 3ms/step - loss: 0.0033 - auc: 0.9417\n",
            "Epoch 6/30\n",
            "2279/2279 [==============================] - 6s 3ms/step - loss: 0.0031 - auc: 0.9431\n",
            "Epoch 7/30\n",
            "2279/2279 [==============================] - 6s 3ms/step - loss: 0.0031 - auc: 0.9444\n",
            "Epoch 8/30\n",
            "2279/2279 [==============================] - 6s 3ms/step - loss: 0.0030 - auc: 0.9431\n",
            "Epoch 9/30\n",
            "2279/2279 [==============================] - 6s 3ms/step - loss: 0.0028 - auc: 0.9533\n",
            "Epoch 10/30\n",
            "2279/2279 [==============================] - 6s 3ms/step - loss: 0.0029 - auc: 0.9533\n",
            "Epoch 11/30\n",
            "2279/2279 [==============================] - 6s 3ms/step - loss: 0.0028 - auc: 0.9509\n",
            "Epoch 12/30\n",
            "2279/2279 [==============================] - 6s 3ms/step - loss: 0.0028 - auc: 0.9522\n",
            "Epoch 13/30\n",
            "2279/2279 [==============================] - 7s 3ms/step - loss: 0.0028 - auc: 0.9497\n",
            "Epoch 14/30\n",
            "2279/2279 [==============================] - 6s 3ms/step - loss: 0.0027 - auc: 0.9497\n",
            "Epoch 15/30\n",
            "2279/2279 [==============================] - 6s 3ms/step - loss: 0.0026 - auc: 0.9522\n",
            "Epoch 16/30\n",
            "2279/2279 [==============================] - 6s 3ms/step - loss: 0.0027 - auc: 0.9497\n",
            "Epoch 17/30\n",
            "2279/2279 [==============================] - 6s 3ms/step - loss: 0.0025 - auc: 0.9510\n",
            "Epoch 18/30\n",
            "2279/2279 [==============================] - 7s 3ms/step - loss: 0.0025 - auc: 0.9587\n",
            "Epoch 19/30\n",
            "2279/2279 [==============================] - 6s 3ms/step - loss: 0.0025 - auc: 0.9561\n",
            "Epoch 20/30\n",
            "2279/2279 [==============================] - 6s 3ms/step - loss: 0.0023 - auc: 0.9587\n",
            "Epoch 21/30\n",
            "2279/2279 [==============================] - 6s 3ms/step - loss: 0.0024 - auc: 0.9549\n",
            "Epoch 22/30\n",
            "2279/2279 [==============================] - 7s 3ms/step - loss: 0.0024 - auc: 0.9536\n",
            "Epoch 23/30\n",
            "2279/2279 [==============================] - 6s 3ms/step - loss: 0.0023 - auc: 0.9614\n",
            "Epoch 24/30\n",
            "2279/2279 [==============================] - 6s 3ms/step - loss: 0.0022 - auc: 0.9613\n",
            "Epoch 25/30\n",
            "2279/2279 [==============================] - 6s 3ms/step - loss: 0.0023 - auc: 0.9600\n",
            "Epoch 26/30\n",
            "2279/2279 [==============================] - 7s 3ms/step - loss: 0.0022 - auc: 0.9588\n",
            "Epoch 27/30\n",
            "2279/2279 [==============================] - 6s 3ms/step - loss: 0.0022 - auc: 0.9588\n",
            "Epoch 28/30\n",
            "2279/2279 [==============================] - 6s 3ms/step - loss: 0.0021 - auc: 0.9614\n",
            "Epoch 29/30\n",
            "2279/2279 [==============================] - 6s 3ms/step - loss: 0.0020 - auc: 0.9639\n",
            "Epoch 30/30\n",
            "2279/2279 [==============================] - 7s 3ms/step - loss: 0.0021 - auc: 0.9639\n"
          ]
        },
        {
          "output_type": "execute_result",
          "data": {
            "text/plain": [
              "<keras.callbacks.History at 0x7fcc2b72d190>"
            ]
          },
          "metadata": {},
          "execution_count": 16
        }
      ]
    },
    {
      "cell_type": "code",
      "metadata": {
        "id": "lOHzaTLmTsO5"
      },
      "source": [
        "# Since keras returns probabilities, we need to manually transform them into predictions\n",
        "# Setting threshold to default 50%\n",
        "\n",
        "tf_probs = model.predict(X_test)\n",
        "tf_preds = (tf_probs > 0.5).reshape(-1)*1  "
      ],
      "execution_count": 17,
      "outputs": []
    },
    {
      "cell_type": "code",
      "metadata": {
        "colab": {
          "base_uri": "https://localhost:8080/"
        },
        "id": "hearOpckks98",
        "outputId": "6557f60d-4afa-43cb-93f1-0579245f6e98"
      },
      "source": [
        "# Testing Metrics\n",
        "auc_tf = metrics.roc_auc_score(y_test, tf_probs)*100\n",
        "cm_tf = metrics.confusion_matrix(y_test, tf_preds)\n",
        "print('Confusion matrix:\\n', cm_tf)\n",
        "print(f\"AUC: {auc_tf}\")\n",
        "print(metrics.classification_report(y_test, tf_preds, digits=4))"
      ],
      "execution_count": 18,
      "outputs": [
        {
          "output_type": "stream",
          "name": "stdout",
          "text": [
            "Confusion matrix:\n",
            " [[56854     7]\n",
            " [   20    81]]\n",
            "AUC: 95.72009108193491\n",
            "              precision    recall  f1-score   support\n",
            "\n",
            "           0     0.9996    0.9999    0.9998     56861\n",
            "           1     0.9205    0.8020    0.8571       101\n",
            "\n",
            "    accuracy                         0.9995     56962\n",
            "   macro avg     0.9601    0.9009    0.9285     56962\n",
            "weighted avg     0.9995    0.9995    0.9995     56962\n",
            "\n"
          ]
        }
      ]
    },
    {
      "cell_type": "markdown",
      "metadata": {
        "id": "tEHdzX2Rm6oG"
      },
      "source": [
        "Although the AUC score is a bit lower, the other results from the DNN are even better than the ones from the threshold-adjusted Logistic Regression. Recall is ~0.84 and Precision at ~0.88. Lets graph the ROC for both methods and compare."
      ]
    },
    {
      "cell_type": "code",
      "metadata": {
        "colab": {
          "base_uri": "https://localhost:8080/",
          "height": 590
        },
        "id": "BK4i3Enylc4K",
        "outputId": "6843ba6d-45e0-4163-944b-ad4422965624"
      },
      "source": [
        "# Taking a look at the ROC\n",
        "fpr_tf, tpr_tf, thresholds_tf = metrics.roc_curve(y_test, tf_probs, drop_intermediate=True)\n",
        "\n",
        "# with plt.xkcd() as style:\n",
        "plt.figure(figsize=(7,4))\n",
        "plt.plot(fpr, tpr, fpr_tf, tpr_tf)\n",
        "plt.title('ROC Curve')\n",
        "plt.xlabel('False positive rate')\n",
        "plt.ylabel('True positive rate')\n",
        "plt.legend(['Logisitc Regression', 'DNN'])\n",
        "\n",
        "\n",
        "plt.figure(figsize=(7,4))\n",
        "plt.plot(fpr, tpr, fpr_tf, tpr_tf)\n",
        "plt.xlim((-0.0001,0.01))\n",
        "plt.title('ROC Curve (Zoomed In')\n",
        "plt.xlabel('False positive rate')\n",
        "plt.ylabel('True positive rate')\n",
        "plt.legend(['Logisitc Regression', 'DNN'])\n"
      ],
      "execution_count": 19,
      "outputs": [
        {
          "output_type": "execute_result",
          "data": {
            "text/plain": [
              "<matplotlib.legend.Legend at 0x7fcc1e4d67d0>"
            ]
          },
          "metadata": {},
          "execution_count": 19
        },
        {
          "output_type": "display_data",
          "data": {
            "image/png": "[encoded data removed]",
            "text/plain": [
              "<Figure size 504x288 with 1 Axes>"
            ]
          },
          "metadata": {
            "needs_background": "light"
          }
        },
        {
          "output_type": "display_data",
          "data": {
            "image/png": "[encoded data removed]",
            "text/plain": [
              "<Figure size 504x288 with 1 Axes>"
            ]
          },
          "metadata": {
            "needs_background": "light"
          }
        }
      ]
    },
    {
      "cell_type": "markdown",
      "metadata": {
        "id": "hhvpjl7mUS3G"
      },
      "source": [
        "Both of the figures are the same, the bottom is just more zoomed in for clarity. \n",
        "\n",
        "The DNN did in fact produce better results. The DNN ROC is a bit more up and to the left than the LR ROC, and the only reason why the AUC was higher with the LR approach is because of the top portion of the graph where the LR curve is higher than the DNN curve, but that is for False Positive Rates that are way too high and not ones we'd ever want, so our threshold would never be chosen to get us on that section of the curve.\n",
        "\n",
        "Now its time for undersampling. We have to shuffle the original DataFrame and only work with as many Non-Fraud samples as we have Fraud ones (492)."
      ]
    },
    {
      "cell_type": "code",
      "metadata": {
        "id": "n7h3JHEjUJRN"
      },
      "source": [
        "# Shuffling\n",
        "shuffled_df = df.sample(frac=1)"
      ],
      "execution_count": 20,
      "outputs": []
    },
    {
      "cell_type": "code",
      "metadata": {
        "id": "6XQ_fceTUcwJ"
      },
      "source": [
        "fraud_df = shuffled_df.loc[shuffled_df['Class'] == 1]\n",
        "non_fraud_df = shuffled_df.loc[shuffled_df['Class'] == 0][:492]\n",
        "\n",
        "combined_df = pd.concat([fraud_df, non_fraud_df])\n",
        "\n",
        "under_sample_df = combined_df.sample(frac=1, random_state=42)"
      ],
      "execution_count": 21,
      "outputs": []
    },
    {
      "cell_type": "code",
      "metadata": {
        "colab": {
          "base_uri": "https://localhost:8080/",
          "height": 295
        },
        "id": "A4yiVxgkUgRZ",
        "outputId": "f78b8449-4d1d-4726-ab77-31f4767e6fd3"
      },
      "source": [
        "ax = sns.countplot(x=under_sample_df.Class, data=under_sample_df).set(title='Under Sampling', xlabel='0: Non-Fraud     1: Fraud', ylabel='Frequency')"
      ],
      "execution_count": 22,
      "outputs": [
        {
          "output_type": "display_data",
          "data": {
            "image/png": "[encoded data removed]",
            "text/plain": [
              "<Figure size 432x288 with 1 Axes>"
            ]
          },
          "metadata": {
            "needs_background": "light"
          }
        }
      ]
    },
    {
      "cell_type": "code",
      "metadata": {
        "colab": {
          "base_uri": "https://localhost:8080/",
          "height": 521
        },
        "id": "PXPimiCTWD42",
        "outputId": "ad096da4-c2b9-4b69-8ff2-030c930fc5bf"
      },
      "source": [
        "corr = under_sample_df.corr() # Correlation Matrix\n",
        "\n",
        "mask = np.zeros_like(corr)\n",
        "mask[np.triu_indices_from(mask)] = True  # Making sure we only get bottom left triangle of correlations\n",
        "\n",
        "cmap = sns.diverging_palette(150, 275, as_cmap=True) # Nicer color map\n",
        "\n",
        "with sns.axes_style(\"white\"):            # Hiding masked part\n",
        "    f, ax = plt.subplots(figsize=(9, 9))\n",
        "    ax = sns.heatmap(corr, mask=mask, square=True, cmap=cmap, center=0, linewidths=0.5, cbar_kws={\"shrink\": 0.7})\n",
        "    ax.set_title('Correlation Heatmap', fontdict={'fontsize':12}, pad=12);"
      ],
      "execution_count": 23,
      "outputs": [
        {
          "output_type": "display_data",
          "data": {
            "image/png": "[encoded data removed]",
            "text/plain": [
              "<Figure size 648x648 with 2 Axes>"
            ]
          },
          "metadata": {}
        }
      ]
    },
    {
      "cell_type": "markdown",
      "metadata": {
        "id": "yuzPQ8GjfBYD"
      },
      "source": [
        "Undersampling the non-fraud cases in order to equalize our dataset uncovered some correlations that weren't previously clear. This might not be a good sign, as it showcases that there is information loss due to the undersampling. Normally, the principal components should not be correlated whatsoever, but since there is way less data than normal here, some correlations can be seen which is not actually a good thing in this case."
      ]
    },
    {
      "cell_type": "code",
      "metadata": {
        "id": "iQp5fibtXDTe"
      },
      "source": [
        "X_us = under_sample_df.drop(columns=['Class'])    # feature matrix (under sampled)\n",
        "y_us = under_sample_df.Class.values               # label vector (under sampled)"
      ],
      "execution_count": 24,
      "outputs": []
    },
    {
      "cell_type": "code",
      "metadata": {
        "id": "hEKikAnlgj_P"
      },
      "source": [
        "# Split some of our training data to become testing data.\n",
        "X_train_us, X_test_us, y_train_us, y_test_us = train_test_split(X_us, y_us, test_size=0.2, random_state=0) "
      ],
      "execution_count": 25,
      "outputs": []
    },
    {
      "cell_type": "code",
      "metadata": {
        "id": "MItnzim3gqSe"
      },
      "source": [
        "clf_us = LogisticRegression().fit(X_train_us, y_train_us)      "
      ],
      "execution_count": 26,
      "outputs": []
    },
    {
      "cell_type": "code",
      "metadata": {
        "colab": {
          "base_uri": "https://localhost:8080/"
        },
        "id": "U7--9gyJgx9d",
        "outputId": "c8198ddf-a36f-4c6b-d365-97e91c0b8435"
      },
      "source": [
        "# Testing Metrics\n",
        "y_pred_us = clf_us.predict(X_test_us)\n",
        "y_probs_us = clf_us.predict_proba(X_test_us)[:, 1]\n",
        "auc_us = metrics.roc_auc_score(y_test_us, y_probs_us)*100\n",
        "cm_us = metrics.confusion_matrix(y_test_us, y_pred_us)\n",
        "print('Confusion matrix:\\n', cm_us)\n",
        "print(f\"AUC: {auc_us}\")\n",
        "print(metrics.classification_report(y_test_us, y_pred_us, digits=4))"
      ],
      "execution_count": 27,
      "outputs": [
        {
          "output_type": "stream",
          "name": "stdout",
          "text": [
            "Confusion matrix:\n",
            " [[103   3]\n",
            " [  7  84]]\n",
            "AUC: 98.8077959776073\n",
            "              precision    recall  f1-score   support\n",
            "\n",
            "           0     0.9364    0.9717    0.9537       106\n",
            "           1     0.9655    0.9231    0.9438        91\n",
            "\n",
            "    accuracy                         0.9492       197\n",
            "   macro avg     0.9509    0.9474    0.9488       197\n",
            "weighted avg     0.9498    0.9492    0.9491       197\n",
            "\n"
          ]
        }
      ]
    },
    {
      "cell_type": "markdown",
      "metadata": {
        "id": "JN1P9U7TYQqy"
      },
      "source": [
        "The AUC is higher, but the scores can be a bit deceiving. It might look like our recall and precision are pretty high up for fraudulent transactions, but our scores for non-fraud ones came down, and therefore the averages did as well. It is not entirely clear if this is better or worse. What can be seen from the ROC?"
      ]
    },
    {
      "cell_type": "code",
      "metadata": {
        "colab": {
          "base_uri": "https://localhost:8080/",
          "height": 590
        },
        "id": "9PPHsEZyhQqh",
        "outputId": "2983a921-4445-46c7-f644-126a683ccbae"
      },
      "source": [
        "# Taking a look at the ROC\n",
        "fpr_us, tpr_us, thresholds_us = metrics.roc_curve(y_test_us, y_probs_us, drop_intermediate=True)\n",
        "\n",
        "# with plt.xkcd() as style:\n",
        "plt.figure(figsize=(7,4))\n",
        "plt.plot(fpr, tpr, fpr_tf, tpr_tf, fpr_us, tpr_us)\n",
        "plt.title('ROC Curve')\n",
        "plt.xlabel('False positive rate')\n",
        "plt.ylabel('True positive rate')\n",
        "plt.legend(['Logisitc Regression', 'DNN', 'Logistic Regression (Under Sampled)'])\n",
        "\n",
        "\n",
        "plt.figure(figsize=(7,4))\n",
        "plt.plot(fpr, tpr, fpr_tf, tpr_tf, fpr_us, tpr_us)\n",
        "plt.xlim((-0.0001,0.01))\n",
        "plt.title('ROC Curve (Zoomed In')\n",
        "plt.xlabel('False positive rate')\n",
        "plt.ylabel('True positive rate')\n",
        "plt.legend(['Logisitc Regression', 'DNN', 'Logistic Regression (Under Sampled)'])"
      ],
      "execution_count": 28,
      "outputs": [
        {
          "output_type": "execute_result",
          "data": {
            "text/plain": [
              "<matplotlib.legend.Legend at 0x7fcc1e265ed0>"
            ]
          },
          "metadata": {},
          "execution_count": 28
        },
        {
          "output_type": "display_data",
          "data": {
            "image/png": "[encoded data removed]",
            "text/plain": [
              "<Figure size 504x288 with 1 Axes>"
            ]
          },
          "metadata": {
            "needs_background": "light"
          }
        },
        {
          "output_type": "display_data",
          "data": {
            "image/png": "[encoded data removed]",
            "text/plain": [
              "<Figure size 504x288 with 1 Axes>"
            ]
          },
          "metadata": {
            "needs_background": "light"
          }
        }
      ]
    },
    {
      "cell_type": "markdown",
      "metadata": {
        "id": "Etu5IgwTYi36"
      },
      "source": [
        "So looking at the ROC, we can now see that the undersampling did in fact help, and it looks like we are getting a much better ROC than before. What is we adjusted the threshold?"
      ]
    },
    {
      "cell_type": "code",
      "metadata": {
        "colab": {
          "base_uri": "https://localhost:8080/"
        },
        "id": "oWElLJGkAtjl",
        "outputId": "22ee918b-650f-46b8-f09a-4fdad4f344b1"
      },
      "source": [
        "# Adjusting under sampling threshold down to 30%\n",
        "adj_probs_us = (y_probs_us > 0.30) * 1\n",
        "adj_cm_us = metrics.confusion_matrix(y_test_us, adj_probs_us)\n",
        "print('Confusion matrix:\\n', adj_cm_us)\n",
        "print(metrics.classification_report(y_test_us, adj_probs_us, digits=4))"
      ],
      "execution_count": 43,
      "outputs": [
        {
          "output_type": "stream",
          "name": "stdout",
          "text": [
            "Confusion matrix:\n",
            " [[101   5]\n",
            " [  5  86]]\n",
            "              precision    recall  f1-score   support\n",
            "\n",
            "           0     0.9528    0.9528    0.9528       106\n",
            "           1     0.9451    0.9451    0.9451        91\n",
            "\n",
            "    accuracy                         0.9492       197\n",
            "   macro avg     0.9489    0.9489    0.9489       197\n",
            "weighted avg     0.9492    0.9492    0.9492       197\n",
            "\n"
          ]
        }
      ]
    },
    {
      "cell_type": "markdown",
      "metadata": {
        "id": "YpEAhu9rgDpk"
      },
      "source": [
        "After some tweaking of the threshold to get the highest F1 avg score, I settled with 30%, which is only fractionally better than not adjusting it. Seems as if the default threshold was good enough. "
      ]
    },
    {
      "cell_type": "markdown",
      "metadata": {
        "id": "oFBpZnT3BlHQ"
      },
      "source": [
        "Deep learning approach with the undersampled dataset?"
      ]
    },
    {
      "cell_type": "code",
      "metadata": {
        "colab": {
          "base_uri": "https://localhost:8080/"
        },
        "id": "C6hCQqYFBvGx",
        "outputId": "4fdf7117-0bbb-47a4-eec5-ff9b6780134c"
      },
      "source": [
        "model_us = keras.Sequential()\n",
        "model_us.add(keras.layers.Dense(128, input_shape=(30,), activation='tanh'))\n",
        "model_us.add(keras.layers.Dropout(0.25))\n",
        "model_us.add(keras.layers.Dense(64, activation='tanh'))\n",
        "model_us.add(keras.layers.Dropout(0.25))\n",
        "model_us.add(keras.layers.Dense(32, activation='tanh'))\n",
        "model_us.add(keras.layers.Dropout(0.25))\n",
        "model_us.add(keras.layers.Dense(1, activation='sigmoid'))\n",
        " \n",
        "model_us.compile(optimizer='adam', loss='binary_crossentropy', metrics=[keras.metrics.AUC()])\n",
        " \n",
        "model_us.fit(X_train_us, y_train_us, epochs=30, batch_size=100)"
      ],
      "execution_count": 30,
      "outputs": [
        {
          "output_type": "stream",
          "name": "stdout",
          "text": [
            "Epoch 1/30\n",
            "8/8 [==============================] - 1s 3ms/step - loss: 0.5497 - auc_1: 0.8134\n",
            "Epoch 2/30\n",
            "8/8 [==============================] - 0s 3ms/step - loss: 0.3704 - auc_1: 0.9497\n",
            "Epoch 3/30\n",
            "8/8 [==============================] - 0s 3ms/step - loss: 0.3251 - auc_1: 0.9595\n",
            "Epoch 4/30\n",
            "8/8 [==============================] - 0s 3ms/step - loss: 0.2951 - auc_1: 0.9666\n",
            "Epoch 5/30\n",
            "8/8 [==============================] - 0s 4ms/step - loss: 0.2553 - auc_1: 0.9694\n",
            "Epoch 6/30\n",
            "8/8 [==============================] - 0s 3ms/step - loss: 0.2438 - auc_1: 0.9710\n",
            "Epoch 7/30\n",
            "8/8 [==============================] - 0s 3ms/step - loss: 0.2087 - auc_1: 0.9738\n",
            "Epoch 8/30\n",
            "8/8 [==============================] - 0s 3ms/step - loss: 0.1917 - auc_1: 0.9765\n",
            "Epoch 9/30\n",
            "8/8 [==============================] - 0s 3ms/step - loss: 0.1916 - auc_1: 0.9764\n",
            "Epoch 10/30\n",
            "8/8 [==============================] - 0s 3ms/step - loss: 0.1687 - auc_1: 0.9826\n",
            "Epoch 11/30\n",
            "8/8 [==============================] - 0s 3ms/step - loss: 0.1711 - auc_1: 0.9762\n",
            "Epoch 12/30\n",
            "8/8 [==============================] - 0s 3ms/step - loss: 0.1708 - auc_1: 0.9791\n",
            "Epoch 13/30\n",
            "8/8 [==============================] - 0s 4ms/step - loss: 0.1669 - auc_1: 0.9789\n",
            "Epoch 14/30\n",
            "8/8 [==============================] - 0s 3ms/step - loss: 0.1553 - auc_1: 0.9818\n",
            "Epoch 15/30\n",
            "8/8 [==============================] - 0s 3ms/step - loss: 0.1604 - auc_1: 0.9804\n",
            "Epoch 16/30\n",
            "8/8 [==============================] - 0s 4ms/step - loss: 0.1458 - auc_1: 0.9832\n",
            "Epoch 17/30\n",
            "8/8 [==============================] - 0s 4ms/step - loss: 0.1605 - auc_1: 0.9811\n",
            "Epoch 18/30\n",
            "8/8 [==============================] - 0s 4ms/step - loss: 0.1521 - auc_1: 0.9823\n",
            "Epoch 19/30\n",
            "8/8 [==============================] - 0s 3ms/step - loss: 0.1471 - auc_1: 0.9811\n",
            "Epoch 20/30\n",
            "8/8 [==============================] - 0s 3ms/step - loss: 0.1471 - auc_1: 0.9832\n",
            "Epoch 21/30\n",
            "8/8 [==============================] - 0s 3ms/step - loss: 0.1456 - auc_1: 0.9842\n",
            "Epoch 22/30\n",
            "8/8 [==============================] - 0s 5ms/step - loss: 0.1353 - auc_1: 0.9861\n",
            "Epoch 23/30\n",
            "8/8 [==============================] - 0s 3ms/step - loss: 0.1304 - auc_1: 0.9879\n",
            "Epoch 24/30\n",
            "8/8 [==============================] - 0s 4ms/step - loss: 0.1448 - auc_1: 0.9841\n",
            "Epoch 25/30\n",
            "8/8 [==============================] - 0s 3ms/step - loss: 0.1353 - auc_1: 0.9869\n",
            "Epoch 26/30\n",
            "8/8 [==============================] - 0s 4ms/step - loss: 0.1302 - auc_1: 0.9865\n",
            "Epoch 27/30\n",
            "8/8 [==============================] - 0s 4ms/step - loss: 0.1314 - auc_1: 0.9859\n",
            "Epoch 28/30\n",
            "8/8 [==============================] - 0s 3ms/step - loss: 0.1310 - auc_1: 0.9855\n",
            "Epoch 29/30\n",
            "8/8 [==============================] - 0s 3ms/step - loss: 0.1434 - auc_1: 0.9859\n",
            "Epoch 30/30\n",
            "8/8 [==============================] - 0s 3ms/step - loss: 0.1362 - auc_1: 0.9866\n"
          ]
        },
        {
          "output_type": "execute_result",
          "data": {
            "text/plain": [
              "<keras.callbacks.History at 0x7fcc1e121850>"
            ]
          },
          "metadata": {},
          "execution_count": 30
        }
      ]
    },
    {
      "cell_type": "code",
      "metadata": {
        "id": "3imdPdxJB8e-"
      },
      "source": [
        "tf_probs_us = model_us.predict(X_test_us)\n",
        "tf_preds_us = (tf_probs_us > 0.5).reshape(-1)*1  "
      ],
      "execution_count": 58,
      "outputs": []
    },
    {
      "cell_type": "code",
      "metadata": {
        "colab": {
          "base_uri": "https://localhost:8080/"
        },
        "id": "6K2Fwz76CLUx",
        "outputId": "9a7b26c0-00e5-45f0-f7f3-6d1641c97be9"
      },
      "source": [
        "# Testing Metrics\n",
        "auc_tf_us = metrics.roc_auc_score(y_test_us, tf_probs_us)*100\n",
        "cm_tf_us = metrics.confusion_matrix(y_test_us, tf_preds_us)\n",
        "print('Confusion matrix:\\n', cm_tf_us)\n",
        "print(f\"AUC: {auc_tf_us}\")\n",
        "print(metrics.classification_report(y_test_us, tf_preds_us, digits=4))"
      ],
      "execution_count": 59,
      "outputs": [
        {
          "output_type": "stream",
          "name": "stdout",
          "text": [
            "Confusion matrix:\n",
            " [[104   2]\n",
            " [  7  84]]\n",
            "AUC: 98.95293385859425\n",
            "              precision    recall  f1-score   support\n",
            "\n",
            "           0     0.9369    0.9811    0.9585       106\n",
            "           1     0.9767    0.9231    0.9492        91\n",
            "\n",
            "    accuracy                         0.9543       197\n",
            "   macro avg     0.9568    0.9521    0.9538       197\n",
            "weighted avg     0.9553    0.9543    0.9542       197\n",
            "\n"
          ]
        }
      ]
    },
    {
      "cell_type": "markdown",
      "metadata": {
        "id": "qgFs8i5lglRo"
      },
      "source": [
        "Ok, so the DNN with undersampling is only a tiny, minuscule bit better than the LR, but it is clear that the undersampling did help. This method also had the highest AUC with 98.95!"
      ]
    },
    {
      "cell_type": "code",
      "metadata": {
        "colab": {
          "base_uri": "https://localhost:8080/",
          "height": 590
        },
        "id": "mgKZaKwQCfZH",
        "outputId": "09cdf856-a638-4f67-f0df-8e2abd802e26"
      },
      "source": [
        "# Taking a look at the ROC\n",
        "fpr_tf_us, tpr_tf_us, thresholds_tf_us = metrics.roc_curve(y_test_us, tf_probs_us, drop_intermediate=True)\n",
        "\n",
        "# with plt.xkcd() as style:\n",
        "plt.figure(figsize=(7,4))\n",
        "plt.plot(fpr, tpr, fpr_tf, tpr_tf, fpr_us, tpr_us, fpr_tf_us, tpr_tf_us)\n",
        "plt.title('ROC Curve')\n",
        "plt.xlabel('False positive rate')\n",
        "plt.ylabel('True positive rate')\n",
        "plt.legend(['Logisitc Regression', 'DNN', 'Logistic Regression (Under Sampled)', 'DNN (Under Sampled)'])\n",
        "\n",
        "\n",
        "plt.figure(figsize=(7,4))\n",
        "plt.plot(fpr, tpr, fpr_tf, tpr_tf, fpr_us, tpr_us, fpr_tf_us, tpr_tf_us)\n",
        "plt.xlim((-0.0001,0.001))\n",
        "plt.title('ROC Curve (Zoomed In')\n",
        "plt.xlabel('False positive rate')\n",
        "plt.ylabel('True positive rate')\n",
        "plt.legend(['Logisitc Regression', 'DNN', 'Logistic Regression (Under Sampled)', 'DNN (Under Sampled)'])"
      ],
      "execution_count": 33,
      "outputs": [
        {
          "output_type": "execute_result",
          "data": {
            "text/plain": [
              "<matplotlib.legend.Legend at 0x7fcc1df7fe10>"
            ]
          },
          "metadata": {},
          "execution_count": 33
        },
        {
          "output_type": "display_data",
          "data": {
            "image/png": "[encoded data removed]",
            "text/plain": [
              "<Figure size 504x288 with 1 Axes>"
            ]
          },
          "metadata": {
            "needs_background": "light"
          }
        },
        {
          "output_type": "display_data",
          "data": {
            "image/png": "[encoded data removed]",
            "text/plain": [
              "<Figure size 504x288 with 1 Axes>"
            ]
          },
          "metadata": {
            "needs_background": "light"
          }
        }
      ]
    },
    {
      "cell_type": "markdown",
      "metadata": {
        "id": "1U7r3oEQYsSU"
      },
      "source": [
        "# Conclusion\n",
        "\n",
        "There are a couple of things to unpack here. For one, the undersampling definitely helped. And in fact, it might have helped a lot more than can be seen from these visualizations because our regular dataset methods could have very well been overfitting the mostly Non-Fraudulent data. \n",
        "\n",
        "Another thing is that the DNN approach was a little bit of a better solution than a simple Logisitc Regression, although with the undersampled dataset the improvement was very miniscule. \n",
        "\n",
        "There a couple of things that can be done to take things further here. One would be to try oversampling instead of undersampling. That would mean we would have to somehow synthetically create more fraudulent transaction samples, but it might have a big performance boost since we would have a bigger dataset than the undersampled one which was only 900 and some odd number of samples. \n",
        "\n",
        "Another thing would be to try changing the neural network structure and hyperparamters to see if we can improve on the scores."
      ]
    }
  ]
}